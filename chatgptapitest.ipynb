{
 "cells": [
  {
   "cell_type": "code",
   "execution_count": 3,
   "metadata": {},
   "outputs": [],
   "source": [
    "import openai  \n",
    "from dotenv import load_dotenv\n",
    "import os"
   ]
  },
  {
   "cell_type": "code",
   "execution_count": 4,
   "metadata": {},
   "outputs": [],
   "source": [
    "load_dotenv()\n",
    "openai.api_key = os.getenv('OPENAI_API_KEY')"
   ]
  },
  {
   "cell_type": "code",
   "execution_count": 17,
   "metadata": {},
   "outputs": [
    {
     "name": "stdout",
     "output_type": "stream",
     "text": [
      "{\n",
      "  \"choices\": [\n",
      "    {\n",
      "      \"finish_reason\": \"stop\",\n",
      "      \"index\": 0,\n",
      "      \"message\": {\n",
      "        \"content\": \"Hello! Welcome to the GPT chat API. How can I assist you today?\",\n",
      "        \"role\": \"assistant\"\n",
      "      }\n",
      "    }\n",
      "  ],\n",
      "  \"created\": 1682814116,\n",
      "  \"id\": \"chatcmpl-7Ap76tmvurklNw4TuHEG7FNgXRBNi\",\n",
      "  \"model\": \"gpt-3.5-turbo-0301\",\n",
      "  \"object\": \"chat.completion\",\n",
      "  \"usage\": {\n",
      "    \"completion_tokens\": 17,\n",
      "    \"prompt_tokens\": 19,\n",
      "    \"total_tokens\": 36\n",
      "  }\n",
      "}\n"
     ]
    }
   ],
   "source": [
    "completion = openai.ChatCompletion.create(\n",
    "    model='gpt-3.5-turbo',\n",
    "    messages=[{'role':'user','content':'hi this is my first gpt chat api message!'}]\n",
    ")\n",
    "\n",
    "print(completion)"
   ]
  },
  {
   "cell_type": "code",
   "execution_count": 16,
   "metadata": {},
   "outputs": [],
   "source": [
    "user_input = \"can you generate me a shot list for the purposes of inputting into an algorithm in python dictionary format using these actions: [{'action': 'actout5_01', 'action_start': 0, 'action_end': 110}, {'action': 'armed_pose2_01', 'action_start': 78, 'action_end': 176}, {'action': 'dives2_01', 'action_start': 152, 'action_end': 295}, {'action': 'frontflip_01', 'action_start': 264, 'action_end': 405}] use these shot types: CU,MS,MCU,WS,TS\""
   ]
  },
  {
   "cell_type": "code",
   "execution_count": 6,
   "metadata": {},
   "outputs": [],
   "source": [
    "firsttry = {'role':'user','content':user_input}"
   ]
  },
  {
   "cell_type": "code",
   "execution_count": 8,
   "metadata": {},
   "outputs": [
    {
     "name": "stdout",
     "output_type": "stream",
     "text": [
      "{\n",
      "  \"choices\": [\n",
      "    {\n",
      "      \"finish_reason\": \"stop\",\n",
      "      \"index\": 0,\n",
      "      \"message\": {\n",
      "        \"content\": \"{\\n    'CU': [\\n        {'action': 'actout5_01', 'action_start': 0, 'action_end': 110},\\n        {'action': 'armed_pose2_01', 'action_start': 78, 'action_end': 176},\\n        {'action': 'dives2_01', 'action_start': 152, 'action_end': 295},\\n        {'action': 'frontflip_01', 'action_start': 264, 'action_end': 405}\\n    ],\\n    'MS': [\\n        {'action': 'actout5_01', 'action_start': 0, 'action_end': 110},\\n        {'action': 'armed_pose2_01', 'action_start': 78, 'action_end': 176},\\n        {'action': 'dives2_01', 'action_start': 152, 'action_end': 295},\\n        {'action': 'frontflip_01', 'action_start': 264, 'action_end': 405}\\n    ],\\n    'MCU': [\\n        {'action': 'actout5_01', 'action_start': 0, 'action_end': 110},\\n        {'action': 'armed_pose2_01', 'action_start': 78, 'action_end': 176},\\n        {'action': 'dives2_01', 'action_start': 152, 'action_end': 295},\\n        {'action': 'frontflip_01', 'action_start': 264, 'action_end': 405}\\n    ],\\n    'WS': [\\n        {'action': 'actout5_01', 'action_start': 0, 'action_end': 110},\\n        {'action': 'armed_pose2_01', 'action_start': 78, 'action_end': 176},\\n        {'action': 'dives2_01', 'action_start': 152, 'action_end': 295},\\n        {'action': 'frontflip_01', 'action_start': 264, 'action_end': 405}\\n    ],\\n    'TS': [\\n        {'action': 'actout5_01', 'action_start': 0, 'action_end': 110},\\n        {'action': 'armed_pose2_01', 'action_start': 78, 'action_end': 176},\\n        {'action': 'dives2_01', 'action_start': 152, 'action_end': 295},\\n        {'action': 'frontflip_01', 'action_start': 264, 'action_end': 405}\\n    ]\\n}\",\n",
      "        \"role\": \"assistant\"\n",
      "      }\n",
      "    }\n",
      "  ],\n",
      "  \"created\": 1682814706,\n",
      "  \"id\": \"chatcmpl-7ApGcifiUDcm2uuWiMJgbcpOTl96W\",\n",
      "  \"model\": \"gpt-3.5-turbo-0301\",\n",
      "  \"object\": \"chat.completion\",\n",
      "  \"usage\": {\n",
      "    \"completion_tokens\": 528,\n",
      "    \"prompt_tokens\": 131,\n",
      "    \"total_tokens\": 659\n",
      "  }\n",
      "}\n"
     ]
    }
   ],
   "source": [
    "completion = openai.ChatCompletion.create(\n",
    "    model='gpt-3.5-turbo',\n",
    "    messages=[firsttry]\n",
    ")\n",
    "\n",
    "print(completion)"
   ]
  },
  {
   "cell_type": "code",
   "execution_count": 12,
   "metadata": {},
   "outputs": [
    {
     "name": "stdout",
     "output_type": "stream",
     "text": [
      "{\n",
      "    'CU': [\n",
      "        {'action': 'actout5_01', 'action_start': 0, 'action_end': 110},\n",
      "        {'action': 'armed_pose2_01', 'action_start': 78, 'action_end': 176},\n",
      "        {'action': 'dives2_01', 'action_start': 152, 'action_end': 295},\n",
      "        {'action': 'frontflip_01', 'action_start': 264, 'action_end': 405}\n",
      "    ],\n",
      "    'MS': [\n",
      "        {'action': 'actout5_01', 'action_start': 0, 'action_end': 110},\n",
      "        {'action': 'armed_pose2_01', 'action_start': 78, 'action_end': 176},\n",
      "        {'action': 'dives2_01', 'action_start': 152, 'action_end': 295},\n",
      "        {'action': 'frontflip_01', 'action_start': 264, 'action_end': 405}\n",
      "    ],\n",
      "    'MCU': [\n",
      "        {'action': 'actout5_01', 'action_start': 0, 'action_end': 110},\n",
      "        {'action': 'armed_pose2_01', 'action_start': 78, 'action_end': 176},\n",
      "        {'action': 'dives2_01', 'action_start': 152, 'action_end': 295},\n",
      "        {'action': 'frontflip_01', 'action_start': 264, 'action_end': 405}\n",
      "    ],\n",
      "    'WS': [\n",
      "        {'action': 'actout5_01', 'action_start': 0, 'action_end': 110},\n",
      "        {'action': 'armed_pose2_01', 'action_start': 78, 'action_end': 176},\n",
      "        {'action': 'dives2_01', 'action_start': 152, 'action_end': 295},\n",
      "        {'action': 'frontflip_01', 'action_start': 264, 'action_end': 405}\n",
      "    ],\n",
      "    'TS': [\n",
      "        {'action': 'actout5_01', 'action_start': 0, 'action_end': 110},\n",
      "        {'action': 'armed_pose2_01', 'action_start': 78, 'action_end': 176},\n",
      "        {'action': 'dives2_01', 'action_start': 152, 'action_end': 295},\n",
      "        {'action': 'frontflip_01', 'action_start': 264, 'action_end': 405}\n",
      "    ]\n",
      "}\n"
     ]
    }
   ],
   "source": [
    "firsttryresponse = completion.choices[0].message.content\n",
    "print(firsttryresponse)"
   ]
  },
  {
   "cell_type": "code",
   "execution_count": 17,
   "metadata": {},
   "outputs": [],
   "source": [
    "secondtry = {'role':'user','content':user_input}"
   ]
  },
  {
   "cell_type": "code",
   "execution_count": 18,
   "metadata": {},
   "outputs": [
    {
     "name": "stdout",
     "output_type": "stream",
     "text": [
      "{\n",
      "  \"choices\": [\n",
      "    {\n",
      "      \"finish_reason\": \"stop\",\n",
      "      \"index\": 0,\n",
      "      \"message\": {\n",
      "        \"content\": \"1. CU of actor performing actout5_01 from 0-110 frames.\\n2. MS of actor holding an armed_pose2_01 from 78-176 frames.\\n3. MCU of actor executing dives2_01 from 152-295 frames.\\n4. WS of actor doing a frontflip_01 from 264-405 frames. \\n5. TS of entire scene capturing all four actions from 0-405 frames.\",\n",
      "        \"role\": \"assistant\"\n",
      "      }\n",
      "    }\n",
      "  ],\n",
      "  \"created\": 1682815333,\n",
      "  \"id\": \"chatcmpl-7ApQjB3e7PdqRtJYZF3serox16bva\",\n",
      "  \"model\": \"gpt-3.5-turbo-0301\",\n",
      "  \"object\": \"chat.completion\",\n",
      "  \"usage\": {\n",
      "    \"completion_tokens\": 90,\n",
      "    \"prompt_tokens\": 141,\n",
      "    \"total_tokens\": 231\n",
      "  }\n",
      "}\n"
     ]
    }
   ],
   "source": [
    "completion = openai.ChatCompletion.create(\n",
    "    model='gpt-3.5-turbo',\n",
    "    messages=[secondtry]\n",
    ")\n",
    "\n",
    "print(completion)"
   ]
  },
  {
   "cell_type": "code",
   "execution_count": 19,
   "metadata": {},
   "outputs": [
    {
     "name": "stdout",
     "output_type": "stream",
     "text": [
      "1. CU of actor performing actout5_01 from 0-110 frames.\n",
      "2. MS of actor holding an armed_pose2_01 from 78-176 frames.\n",
      "3. MCU of actor executing dives2_01 from 152-295 frames.\n",
      "4. WS of actor doing a frontflip_01 from 264-405 frames. \n",
      "5. TS of entire scene capturing all four actions from 0-405 frames.\n"
     ]
    }
   ],
   "source": [
    "secondtryresponse = completion.choices[0].message.content\n",
    "print(secondtryresponse)"
   ]
  },
  {
   "cell_type": "code",
   "execution_count": 20,
   "metadata": {},
   "outputs": [],
   "source": [
    "message_history = []\n",
    "\n",
    "def chat(input, role=\"user\"):\n",
    "    message_history.append({'role':role,'content':input})\n",
    "\n",
    "    completion = openai.ChatCompletion.create(\n",
    "        model='gpt-3.5-turbo',\n",
    "        messages=message_history\n",
    "    )\n",
    "    reply = completion.choices[0].message.content\n",
    "    print(reply)\n",
    "    message_history.append({'role':'assistant','content':reply})\n",
    "    return reply"
   ]
  },
  {
   "cell_type": "code",
   "execution_count": 21,
   "metadata": {},
   "outputs": [],
   "source": [
    "input1 = \"can you generate me a shot list for the purposes of inputting into an algorithm using these actions: [{'action': 'actout5_01', 'action_start': 0, 'action_end': 110}, {'action': 'armed_pose2_01', 'action_start': 78, 'action_end': 176}, {'action': 'dives2_01', 'action_start': 152, 'action_end': 295}, {'action': 'frontflip_01', 'action_start': 264, 'action_end': 405}] use these shot types: CU,MS,MCU,WS,TS give me the shotlist in a python dictionary\""
   ]
  },
  {
   "cell_type": "code",
   "execution_count": 22,
   "metadata": {},
   "outputs": [
    {
     "name": "stdout",
     "output_type": "stream",
     "text": [
      "Here is a shot list in a python dictionary using the provided actions and shot types:\n",
      "\n",
      "```\n",
      "shot_list = [\n",
      "    {'shot_type': 'CU', 'action': 'actout5_01', 'start_time': 0, 'end_time': 10},\n",
      "    {'shot_type': 'MS', 'action': 'actout5_01', 'start_time': 10, 'end_time': 20},\n",
      "    {'shot_type': 'MCU', 'action': 'actout5_01', 'start_time': 20, 'end_time': 30},\n",
      "    {'shot_type': 'WS', 'action': 'actout5_01', 'start_time': 30, 'end_time': 40},\n",
      "    {'shot_type': 'TS', 'action': 'actout5_01', 'start_time': 40, 'end_time': 50},\n",
      "    {'shot_type': 'CU', 'action': 'armed_pose2_01', 'start_time': 78, 'end_time': 86},\n",
      "    {'shot_type': 'MS', 'action': 'armed_pose2_01', 'start_time': 86, 'end_time': 94},\n",
      "    {'shot_type': 'MCU', 'action': 'armed_pose2_01', 'start_time': 94, 'end_time': 102},\n",
      "    {'shot_type': 'WS', 'action': 'armed_pose2_01', 'start_time': 102, 'end_time': 110},\n",
      "    {'shot_type': 'TS', 'action': 'armed_pose2_01', 'start_time': 110, 'end_time': 118},\n",
      "    {'shot_type': 'CU', 'action': 'dives2_01', 'start_time': 152, 'end_time': 167},\n",
      "    {'shot_type': 'MS', 'action': 'dives2_01', 'start_time': 167, 'end_time': 182},\n",
      "    {'shot_type': 'MCU', 'action': 'dives2_01', 'start_time': 182, 'end_time': 197},\n",
      "    {'shot_type': 'WS', 'action': 'dives2_01', 'start_time': 197, 'end_time': 212},\n",
      "    {'shot_type': 'TS', 'action': 'dives2_01', 'start_time': 212, 'end_time': 227},\n",
      "    {'shot_type': 'CU', 'action': 'frontflip_01', 'start_time': 264, 'end_time': 279},\n",
      "    {'shot_type': 'MS', 'action': 'frontflip_01', 'start_time': 279, 'end_time': 294},\n",
      "    {'shot_type': 'MCU', 'action': 'frontflip_01', 'start_time': 294, 'end_time': 309},\n",
      "    {'shot_type': 'WS', 'action': 'frontflip_01', 'start_time': 309, 'end_time': 324},\n",
      "    {'shot_type': 'TS', 'action': 'frontfip_01', 'start_time': 324, 'end_time': 339},\n",
      "]\n",
      "```\n"
     ]
    },
    {
     "data": {
      "text/plain": [
       "\"Here is a shot list in a python dictionary using the provided actions and shot types:\\n\\n```\\nshot_list = [\\n    {'shot_type': 'CU', 'action': 'actout5_01', 'start_time': 0, 'end_time': 10},\\n    {'shot_type': 'MS', 'action': 'actout5_01', 'start_time': 10, 'end_time': 20},\\n    {'shot_type': 'MCU', 'action': 'actout5_01', 'start_time': 20, 'end_time': 30},\\n    {'shot_type': 'WS', 'action': 'actout5_01', 'start_time': 30, 'end_time': 40},\\n    {'shot_type': 'TS', 'action': 'actout5_01', 'start_time': 40, 'end_time': 50},\\n    {'shot_type': 'CU', 'action': 'armed_pose2_01', 'start_time': 78, 'end_time': 86},\\n    {'shot_type': 'MS', 'action': 'armed_pose2_01', 'start_time': 86, 'end_time': 94},\\n    {'shot_type': 'MCU', 'action': 'armed_pose2_01', 'start_time': 94, 'end_time': 102},\\n    {'shot_type': 'WS', 'action': 'armed_pose2_01', 'start_time': 102, 'end_time': 110},\\n    {'shot_type': 'TS', 'action': 'armed_pose2_01', 'start_time': 110, 'end_time': 118},\\n    {'shot_type': 'CU', 'action': 'dives2_01', 'start_time': 152, 'end_time': 167},\\n    {'shot_type': 'MS', 'action': 'dives2_01', 'start_time': 167, 'end_time': 182},\\n    {'shot_type': 'MCU', 'action': 'dives2_01', 'start_time': 182, 'end_time': 197},\\n    {'shot_type': 'WS', 'action': 'dives2_01', 'start_time': 197, 'end_time': 212},\\n    {'shot_type': 'TS', 'action': 'dives2_01', 'start_time': 212, 'end_time': 227},\\n    {'shot_type': 'CU', 'action': 'frontflip_01', 'start_time': 264, 'end_time': 279},\\n    {'shot_type': 'MS', 'action': 'frontflip_01', 'start_time': 279, 'end_time': 294},\\n    {'shot_type': 'MCU', 'action': 'frontflip_01', 'start_time': 294, 'end_time': 309},\\n    {'shot_type': 'WS', 'action': 'frontflip_01', 'start_time': 309, 'end_time': 324},\\n    {'shot_type': 'TS', 'action': 'frontfip_01', 'start_time': 324, 'end_time': 339},\\n]\\n```\""
      ]
     },
     "execution_count": 22,
     "metadata": {},
     "output_type": "execute_result"
    }
   ],
   "source": [
    "chat(input1, role='user')"
   ]
  },
  {
   "cell_type": "code",
   "execution_count": 24,
   "metadata": {},
   "outputs": [],
   "source": [
    "input2='give me another verion but this time with the shots numbered starting from 1 and make sure you go go all the way to the final end_time'"
   ]
  },
  {
   "cell_type": "code",
   "execution_count": 25,
   "metadata": {},
   "outputs": [
    {
     "name": "stdout",
     "output_type": "stream",
     "text": [
      "Sure, here's the shot list with shots numbered from 1 and including all the way to the final end time:\n",
      "\n",
      "```\n",
      "shot_list = [\n",
      "    {'shot_number': 1, 'shot_type': 'CU', 'action': 'actout5_01', 'start_time': 0, 'end_time': 10},\n",
      "    {'shot_number': 2, 'shot_type': 'MS', 'action': 'actout5_01', 'start_time': 10, 'end_time': 20},\n",
      "    {'shot_number': 3, 'shot_type': 'MCU', 'action': 'actout5_01', 'start_time': 20, 'end_time': 30},\n",
      "    {'shot_number': 4, 'shot_type': 'WS', 'action': 'actout5_01', 'start_time': 30, 'end_time': 40},\n",
      "    {'shot_number': 5, 'shot_type': 'TS', 'action': 'actout5_01', 'start_time': 40, 'end_time': 50},\n",
      "    {'shot_number': 6, 'shot_type': 'CU', 'action': 'armed_pose2_01', 'start_time': 78, 'end_time': 86},\n",
      "    {'shot_number': 7, 'shot_type': 'MS', 'action': 'armed_pose2_01', 'start_time': 86, 'end_time': 94},\n",
      "    {'shot_number': 8, 'shot_type': 'MCU', 'action': 'armed_pose2_01', 'start_time': 94, 'end_time': 102},\n",
      "    {'shot_number': 9, 'shot_type': 'WS', 'action': 'armed_pose2_01', 'start_time': 102, 'end_time': 110},\n",
      "    {'shot_number': 10, 'shot_type': 'TS', 'action': 'armed_pose2_01', 'start_time': 110, 'end_time': 118},\n",
      "    {'shot_number': 11, 'shot_type': 'CU', 'action': 'dives2_01', 'start_time': 152, 'end_time': 167},\n",
      "    {'shot_number': 12, 'shot_type': 'MS', 'action': 'dives2_01', 'start_time': 167, 'end_time': 182},\n",
      "    {'shot_number': 13, 'shot_type': 'MCU', 'action': 'dives2_01', 'start_time': 182, 'end_time': 197},\n",
      "    {'shot_number': 14, 'shot_type': 'WS', 'action': 'dives2_01', 'start_time': 197, 'end_time': 212},\n",
      "    {'shot_number': 15, 'shot_type': 'TS', 'action': 'dives2_01', 'start_time': 212, 'end_time': 227},\n",
      "    {'shot_number': 16, 'shot_type': 'CU', 'action': 'frontflip_01', 'start_time': 264, 'end_time': 279},\n",
      "    {'shot_number': 17, 'shot_type': 'MS', 'action': 'frontflip_01', 'start_time': 279, 'end_time': 294},\n",
      "    {'shot_number': 18, 'shot_type': 'MCU', 'action': 'frontflip_01', 'start_time': 294, 'end_time': 309},\n",
      "    {'shot_number': 19, 'shot_type': 'WS', 'action': 'frontflip_01', 'start_time': 309, 'end_time': 324},\n",
      "    {'shot_number': 20, 'shot_type': 'TS', 'action': 'frontflip_01', 'start_time': 324, 'end_time': 339},\n",
      "    {'shot_number': 21, 'shot_type': 'CU', 'action': 'frontflip_01', 'start_time': 339, 'end_time': 354},\n",
      "    {'shot_number': 22, 'shot_type': 'MS', 'action': 'frontflip_01', 'start_time': 354, 'end_time': 369},\n",
      "    {'shot_number': 23, 'shot_type': 'MCU', 'action': 'frontflip_01', 'start_time': 369, 'end_time': 384},\n",
      "    {'shot_number': 24, 'shot_type': 'WS', 'action': 'frontflip_01', 'start_time': 384, 'end_time': 399},\n",
      "    {'shot_number': 25, 'shot_type': 'TS', 'action': 'frontflip_01', 'start_time': 399, 'end_time': 405},\n",
      "]\n",
      "```\n"
     ]
    },
    {
     "data": {
      "text/plain": [
       "\"Sure, here's the shot list with shots numbered from 1 and including all the way to the final end time:\\n\\n```\\nshot_list = [\\n    {'shot_number': 1, 'shot_type': 'CU', 'action': 'actout5_01', 'start_time': 0, 'end_time': 10},\\n    {'shot_number': 2, 'shot_type': 'MS', 'action': 'actout5_01', 'start_time': 10, 'end_time': 20},\\n    {'shot_number': 3, 'shot_type': 'MCU', 'action': 'actout5_01', 'start_time': 20, 'end_time': 30},\\n    {'shot_number': 4, 'shot_type': 'WS', 'action': 'actout5_01', 'start_time': 30, 'end_time': 40},\\n    {'shot_number': 5, 'shot_type': 'TS', 'action': 'actout5_01', 'start_time': 40, 'end_time': 50},\\n    {'shot_number': 6, 'shot_type': 'CU', 'action': 'armed_pose2_01', 'start_time': 78, 'end_time': 86},\\n    {'shot_number': 7, 'shot_type': 'MS', 'action': 'armed_pose2_01', 'start_time': 86, 'end_time': 94},\\n    {'shot_number': 8, 'shot_type': 'MCU', 'action': 'armed_pose2_01', 'start_time': 94, 'end_time': 102},\\n    {'shot_number': 9, 'shot_type': 'WS', 'action': 'armed_pose2_01', 'start_time': 102, 'end_time': 110},\\n    {'shot_number': 10, 'shot_type': 'TS', 'action': 'armed_pose2_01', 'start_time': 110, 'end_time': 118},\\n    {'shot_number': 11, 'shot_type': 'CU', 'action': 'dives2_01', 'start_time': 152, 'end_time': 167},\\n    {'shot_number': 12, 'shot_type': 'MS', 'action': 'dives2_01', 'start_time': 167, 'end_time': 182},\\n    {'shot_number': 13, 'shot_type': 'MCU', 'action': 'dives2_01', 'start_time': 182, 'end_time': 197},\\n    {'shot_number': 14, 'shot_type': 'WS', 'action': 'dives2_01', 'start_time': 197, 'end_time': 212},\\n    {'shot_number': 15, 'shot_type': 'TS', 'action': 'dives2_01', 'start_time': 212, 'end_time': 227},\\n    {'shot_number': 16, 'shot_type': 'CU', 'action': 'frontflip_01', 'start_time': 264, 'end_time': 279},\\n    {'shot_number': 17, 'shot_type': 'MS', 'action': 'frontflip_01', 'start_time': 279, 'end_time': 294},\\n    {'shot_number': 18, 'shot_type': 'MCU', 'action': 'frontflip_01', 'start_time': 294, 'end_time': 309},\\n    {'shot_number': 19, 'shot_type': 'WS', 'action': 'frontflip_01', 'start_time': 309, 'end_time': 324},\\n    {'shot_number': 20, 'shot_type': 'TS', 'action': 'frontflip_01', 'start_time': 324, 'end_time': 339},\\n    {'shot_number': 21, 'shot_type': 'CU', 'action': 'frontflip_01', 'start_time': 339, 'end_time': 354},\\n    {'shot_number': 22, 'shot_type': 'MS', 'action': 'frontflip_01', 'start_time': 354, 'end_time': 369},\\n    {'shot_number': 23, 'shot_type': 'MCU', 'action': 'frontflip_01', 'start_time': 369, 'end_time': 384},\\n    {'shot_number': 24, 'shot_type': 'WS', 'action': 'frontflip_01', 'start_time': 384, 'end_time': 399},\\n    {'shot_number': 25, 'shot_type': 'TS', 'action': 'frontflip_01', 'start_time': 399, 'end_time': 405},\\n]\\n```\""
      ]
     },
     "execution_count": 25,
     "metadata": {},
     "output_type": "execute_result"
    }
   ],
   "source": [
    "chat(input2,role='user')"
   ]
  },
  {
   "cell_type": "code",
   "execution_count": 27,
   "metadata": {},
   "outputs": [],
   "source": [
    "input3 = 'thats better but can you give me another version but as one dictionary and with less cuts and return only that dictionary with no other words'"
   ]
  },
  {
   "cell_type": "code",
   "execution_count": 28,
   "metadata": {},
   "outputs": [
    {
     "name": "stdout",
     "output_type": "stream",
     "text": [
      "Sure, here's another version with all shots in a list of dictionaries within a single dictionary:\n",
      "\n",
      "```\n",
      "{\n",
      "\t'shots': [\n",
      "\t\t{'shot_number': 1, 'shot_type': 'CU', 'action': 'actout5_01', 'start_time': 0, 'end_time': 10},\n",
      "\t\t{'shot_number': 2, 'shot_type': 'MS', 'action': 'actout5_01', 'start_time': 10, 'end_time': 20},\n",
      "\t\t{'shot_number': 3, 'shot_type': 'MCU', 'action': 'actout5_01', 'start_time': 20, 'end_time': 30},\n",
      "\t\t{'shot_number': 4, 'shot_type': 'WS', 'action': 'actout5_01', 'start_time': 30, 'end_time': 40},\n",
      "\t\t{'shot_number': 5, 'shot_type': 'TS', 'action': 'actout5_01', 'start_time': 40, 'end_time': 50},\n",
      "\t\t{'shot_number': 6, 'shot_type': 'CU', 'action': 'armed_pose2_01', 'start_time': 78, 'end_time': 86},\n",
      "\t\t{'shot_number': 7, 'shot_type': 'MS', 'action': 'armed_pose2_01', 'start_time': 86, 'end_time': 94},\n",
      "\t\t{'shot_number': 8, 'shot_type': 'MCU', 'action': 'armed_pose2_01', 'start_time': 94, 'end_time': 102},\n",
      "\t\t{'shot_number': 9, 'shot_type': 'WS', 'action': 'armed_pose2_01', 'start_time': 102, 'end_time': 110},\n",
      "\t\t{'shot_number': 10, 'shot_type': 'TS', 'action': 'armed_pose2_01', 'start_time': 110, 'end_time': 118},\n",
      "\t\t{'shot_number': 11, 'shot_type': 'CU', 'action': 'dives2_01', 'start_time': 152, 'end_time': 167},\n",
      "\t\t{'shot_number': 12, 'shot_type': 'MS', 'action': 'dives2_01', 'start_time': 167, 'end_time': 182},\n",
      "\t\t{'shot_number': 13, 'shot_type': 'MCU', 'action': 'dives2_01', 'start_time': 182, 'end_time': 197},\n",
      "\t\t{'shot_number': 14, 'shot_type': 'WS', 'action': 'dives2_01', 'start_time': 197, 'end_time': 212},\n",
      "\t\t{'shot_number': 15, 'shot_type': 'TS', 'action': 'dives2_01', 'start_time': 212, 'end_time': 227},\n",
      "\t\t{'shot_number': 16, 'shot_type': 'CU', 'action': 'frontflip_01', 'start_time': 264, 'end_time': 279},\n",
      "\t\t{'shot_number': 17, 'shot_type': 'MS', 'action': 'frontflip_01', 'start_time': 279, 'end_time': 294},\n",
      "\t\t{'shot_number': 18, 'shot_type': 'MCU', 'action': 'frontflip_01', 'start_time': 294, 'end_time': 309},\n",
      "\t\t{'shot_number': 19, 'shot_type': 'WS', 'action': 'frontflip_01', 'start_time': 309, 'end_time': 324},\n",
      "\t\t{'shot_number': 20, 'shot_type': 'TS', 'action': 'frontflip_01', 'start_time': 324, 'end_time': 405},\n",
      "\t]\n",
      "}\n",
      "```\n"
     ]
    },
    {
     "data": {
      "text/plain": [
       "\"Sure, here's another version with all shots in a list of dictionaries within a single dictionary:\\n\\n```\\n{\\n\\t'shots': [\\n\\t\\t{'shot_number': 1, 'shot_type': 'CU', 'action': 'actout5_01', 'start_time': 0, 'end_time': 10},\\n\\t\\t{'shot_number': 2, 'shot_type': 'MS', 'action': 'actout5_01', 'start_time': 10, 'end_time': 20},\\n\\t\\t{'shot_number': 3, 'shot_type': 'MCU', 'action': 'actout5_01', 'start_time': 20, 'end_time': 30},\\n\\t\\t{'shot_number': 4, 'shot_type': 'WS', 'action': 'actout5_01', 'start_time': 30, 'end_time': 40},\\n\\t\\t{'shot_number': 5, 'shot_type': 'TS', 'action': 'actout5_01', 'start_time': 40, 'end_time': 50},\\n\\t\\t{'shot_number': 6, 'shot_type': 'CU', 'action': 'armed_pose2_01', 'start_time': 78, 'end_time': 86},\\n\\t\\t{'shot_number': 7, 'shot_type': 'MS', 'action': 'armed_pose2_01', 'start_time': 86, 'end_time': 94},\\n\\t\\t{'shot_number': 8, 'shot_type': 'MCU', 'action': 'armed_pose2_01', 'start_time': 94, 'end_time': 102},\\n\\t\\t{'shot_number': 9, 'shot_type': 'WS', 'action': 'armed_pose2_01', 'start_time': 102, 'end_time': 110},\\n\\t\\t{'shot_number': 10, 'shot_type': 'TS', 'action': 'armed_pose2_01', 'start_time': 110, 'end_time': 118},\\n\\t\\t{'shot_number': 11, 'shot_type': 'CU', 'action': 'dives2_01', 'start_time': 152, 'end_time': 167},\\n\\t\\t{'shot_number': 12, 'shot_type': 'MS', 'action': 'dives2_01', 'start_time': 167, 'end_time': 182},\\n\\t\\t{'shot_number': 13, 'shot_type': 'MCU', 'action': 'dives2_01', 'start_time': 182, 'end_time': 197},\\n\\t\\t{'shot_number': 14, 'shot_type': 'WS', 'action': 'dives2_01', 'start_time': 197, 'end_time': 212},\\n\\t\\t{'shot_number': 15, 'shot_type': 'TS', 'action': 'dives2_01', 'start_time': 212, 'end_time': 227},\\n\\t\\t{'shot_number': 16, 'shot_type': 'CU', 'action': 'frontflip_01', 'start_time': 264, 'end_time': 279},\\n\\t\\t{'shot_number': 17, 'shot_type': 'MS', 'action': 'frontflip_01', 'start_time': 279, 'end_time': 294},\\n\\t\\t{'shot_number': 18, 'shot_type': 'MCU', 'action': 'frontflip_01', 'start_time': 294, 'end_time': 309},\\n\\t\\t{'shot_number': 19, 'shot_type': 'WS', 'action': 'frontflip_01', 'start_time': 309, 'end_time': 324},\\n\\t\\t{'shot_number': 20, 'shot_type': 'TS', 'action': 'frontflip_01', 'start_time': 324, 'end_time': 405},\\n\\t]\\n}\\n```\""
      ]
     },
     "execution_count": 28,
     "metadata": {},
     "output_type": "execute_result"
    }
   ],
   "source": [
    "chat(input3,role='user')"
   ]
  },
  {
   "cell_type": "code",
   "execution_count": 29,
   "metadata": {},
   "outputs": [],
   "source": [
    "input4 = 'keep this format and give me another version but this time make sure theres no empty space between cuts'"
   ]
  },
  {
   "cell_type": "code",
   "execution_count": 30,
   "metadata": {},
   "outputs": [
    {
     "name": "stdout",
     "output_type": "stream",
     "text": [
      "Here is an updated version of the shot list with no empty spaces between cuts:\n",
      "\n",
      "```\n",
      "{\n",
      "\t'shots': [\n",
      "\t\t{'shot_number': 1, 'shot_type': 'CU', 'action': 'actout5_01', 'start_time': 0, 'end_time': 10},\n",
      "\t\t{'shot_number': 2, 'shot_type': 'MS', 'action': 'actout5_01', 'start_time': 10, 'end_time': 20},\n",
      "\t\t{'shot_number': 3, 'shot_type': 'MCU', 'action': 'actout5_01', 'start_time': 20, 'end_time': 30},\n",
      "\t\t{'shot_number': 4, 'shot_type': 'WS', 'action': 'actout5_01', 'start_time': 30, 'end_time': 40},\n",
      "\t\t{'shot_number': 5, 'shot_type': 'TS', 'action': 'actout5_01', 'start_time': 40, 'end_time': 50},\n",
      "\t\t{'shot_number': 6, 'shot_type': 'CU', 'action': 'armed_pose2_01', 'start_time': 78, 'end_time': 86},\n",
      "\t\t{'shot_number': 7, 'shot_type': 'MS', 'action': 'armed_pose2_01', 'start_time': 86, 'end_time': 94},\n",
      "\t\t{'shot_number': 8, 'shot_type': 'MCU', 'action': 'armed_pose2_01', 'start_time': 94, 'end_time': 102},\n",
      "\t\t{'shot_number': 9, 'shot_type': 'WS', 'action': 'armed_pose2_01', 'start_time': 102, 'end_time': 110},\n",
      "\t\t{'shot_number': 10, 'shot_type': 'TS', 'action': 'armed_pose2_01', 'start_time': 110, 'end_time': 118},\n",
      "\t\t{'shot_number': 11, 'shot_type': 'CU', 'action': 'dives2_01', 'start_time': 152, 'end_time': 167},\n",
      "\t\t{'shot_number': 12, 'shot_type': 'MS', 'action': 'dives2_01', 'start_time': 167, 'end_time': 182},\n",
      "\t\t{'shot_number': 13, 'shot_type': 'MCU', 'action': 'dives2_01', 'start_time': 182, 'end_time': 197},\n",
      "\t\t{'shot_number': 14, 'shot_type': 'WS', 'action': 'dives2_01', 'start_time': 197, 'end_time': 212},\n",
      "\t\t{'shot_number': 15, 'shot_type': 'TS', 'action': 'dives2_01', 'start_time': 212, 'end_time': 227},\n",
      "\t\t{'shot_number': 16, 'shot_type': 'CU', 'action': 'frontflip_01', 'start_time': 264, 'end_time': 279},\n",
      "\t\t{'shot_number': 17, 'shot_type': 'MS', 'action': 'frontflip_01', 'start_time': 279, 'end_time': 294},\n",
      "\t\t{'shot_number': 18, 'shot_type': 'MCU', 'action': 'frontflip_01', 'start_time': 294, 'end_time': 309},\n",
      "\t\t{'shot_number': 19, 'shot_type': 'WS', 'action': 'frontflip_01', 'start_time': 309, 'end_time': 324},\n",
      "\t\t{'shot_number': 20, 'shot_type': 'TS', 'action': 'frontflip_01', 'start_time': 324, 'end_time': 405},\n",
      "\t]\n",
      "}\n",
      "```\n"
     ]
    },
    {
     "data": {
      "text/plain": [
       "\"Here is an updated version of the shot list with no empty spaces between cuts:\\n\\n```\\n{\\n\\t'shots': [\\n\\t\\t{'shot_number': 1, 'shot_type': 'CU', 'action': 'actout5_01', 'start_time': 0, 'end_time': 10},\\n\\t\\t{'shot_number': 2, 'shot_type': 'MS', 'action': 'actout5_01', 'start_time': 10, 'end_time': 20},\\n\\t\\t{'shot_number': 3, 'shot_type': 'MCU', 'action': 'actout5_01', 'start_time': 20, 'end_time': 30},\\n\\t\\t{'shot_number': 4, 'shot_type': 'WS', 'action': 'actout5_01', 'start_time': 30, 'end_time': 40},\\n\\t\\t{'shot_number': 5, 'shot_type': 'TS', 'action': 'actout5_01', 'start_time': 40, 'end_time': 50},\\n\\t\\t{'shot_number': 6, 'shot_type': 'CU', 'action': 'armed_pose2_01', 'start_time': 78, 'end_time': 86},\\n\\t\\t{'shot_number': 7, 'shot_type': 'MS', 'action': 'armed_pose2_01', 'start_time': 86, 'end_time': 94},\\n\\t\\t{'shot_number': 8, 'shot_type': 'MCU', 'action': 'armed_pose2_01', 'start_time': 94, 'end_time': 102},\\n\\t\\t{'shot_number': 9, 'shot_type': 'WS', 'action': 'armed_pose2_01', 'start_time': 102, 'end_time': 110},\\n\\t\\t{'shot_number': 10, 'shot_type': 'TS', 'action': 'armed_pose2_01', 'start_time': 110, 'end_time': 118},\\n\\t\\t{'shot_number': 11, 'shot_type': 'CU', 'action': 'dives2_01', 'start_time': 152, 'end_time': 167},\\n\\t\\t{'shot_number': 12, 'shot_type': 'MS', 'action': 'dives2_01', 'start_time': 167, 'end_time': 182},\\n\\t\\t{'shot_number': 13, 'shot_type': 'MCU', 'action': 'dives2_01', 'start_time': 182, 'end_time': 197},\\n\\t\\t{'shot_number': 14, 'shot_type': 'WS', 'action': 'dives2_01', 'start_time': 197, 'end_time': 212},\\n\\t\\t{'shot_number': 15, 'shot_type': 'TS', 'action': 'dives2_01', 'start_time': 212, 'end_time': 227},\\n\\t\\t{'shot_number': 16, 'shot_type': 'CU', 'action': 'frontflip_01', 'start_time': 264, 'end_time': 279},\\n\\t\\t{'shot_number': 17, 'shot_type': 'MS', 'action': 'frontflip_01', 'start_time': 279, 'end_time': 294},\\n\\t\\t{'shot_number': 18, 'shot_type': 'MCU', 'action': 'frontflip_01', 'start_time': 294, 'end_time': 309},\\n\\t\\t{'shot_number': 19, 'shot_type': 'WS', 'action': 'frontflip_01', 'start_time': 309, 'end_time': 324},\\n\\t\\t{'shot_number': 20, 'shot_type': 'TS', 'action': 'frontflip_01', 'start_time': 324, 'end_time': 405},\\n\\t]\\n}\\n```\""
      ]
     },
     "execution_count": 30,
     "metadata": {},
     "output_type": "execute_result"
    }
   ],
   "source": [
    "chat(input4,role='user')"
   ]
  },
  {
   "cell_type": "code",
   "execution_count": 31,
   "metadata": {},
   "outputs": [],
   "source": [
    "input5 = 'give me another version this time make sure the start_time of a cut is the same as the end_time of the previous cut except for the first cut starts at 0'"
   ]
  },
  {
   "cell_type": "code",
   "execution_count": 32,
   "metadata": {},
   "outputs": [
    {
     "name": "stdout",
     "output_type": "stream",
     "text": [
      "Sure, here's the shot list with start times equivalent to previous end times (except for the first shot which starts at 0):\n",
      "\n",
      "```\n",
      "{\n",
      "    'shots': [\n",
      "        {'shot_number': 1, 'shot_type': 'CU', 'action': 'actout5_01', 'start_time': 0, 'end_time': 10},\n",
      "        {'shot_number': 2, 'shot_type': 'MS', 'action': 'actout5_01', 'start_time': 10, 'end_time': 20},\n",
      "        {'shot_number': 3, 'shot_type': 'MCU', 'action': 'actout5_01', 'start_time': 20, 'end_time': 30},\n",
      "        {'shot_number': 4, 'shot_type': 'WS', 'action': 'actout5_01', 'start_time': 30, 'end_time': 40},\n",
      "        {'shot_number': 5, 'shot_type': 'TS', 'action': 'actout5_01', 'start_time': 40, 'end_time': 50},\n",
      "        {'shot_number': 6, 'shot_type': 'CU', 'action': 'armed_pose2_01', 'start_time': 50, 'end_time': 58},\n",
      "        {'shot_number': 7, 'shot_type': 'MS', 'action': 'armed_pose2_01', 'start_time': 58, 'end_time': 66},\n",
      "        {'shot_number': 8, 'shot_type': 'MCU', 'action': 'armed_pose2_01', 'start_time': 66, 'end_time': 74},\n",
      "        {'shot_number': 9, 'shot_type': 'WS', 'action': 'armed_pose2_01', 'start_time': 74, 'end_time': 82},\n",
      "        {'shot_number': 10, 'shot_type': 'TS', 'action': 'armed_pose2_01', 'start_time': 82, 'end_time': 90},\n",
      "        {'shot_number': 11, 'shot_type': 'CU', 'action': 'dives2_01', 'start_time': 90, 'end_time': 105},\n",
      "        {'shot_number': 12, 'shot_type': 'MS', 'action': 'dives2_01', 'start_time': 105, '\n"
     ]
    },
    {
     "data": {
      "text/plain": [
       "\"Sure, here's the shot list with start times equivalent to previous end times (except for the first shot which starts at 0):\\n\\n```\\n{\\n    'shots': [\\n        {'shot_number': 1, 'shot_type': 'CU', 'action': 'actout5_01', 'start_time': 0, 'end_time': 10},\\n        {'shot_number': 2, 'shot_type': 'MS', 'action': 'actout5_01', 'start_time': 10, 'end_time': 20},\\n        {'shot_number': 3, 'shot_type': 'MCU', 'action': 'actout5_01', 'start_time': 20, 'end_time': 30},\\n        {'shot_number': 4, 'shot_type': 'WS', 'action': 'actout5_01', 'start_time': 30, 'end_time': 40},\\n        {'shot_number': 5, 'shot_type': 'TS', 'action': 'actout5_01', 'start_time': 40, 'end_time': 50},\\n        {'shot_number': 6, 'shot_type': 'CU', 'action': 'armed_pose2_01', 'start_time': 50, 'end_time': 58},\\n        {'shot_number': 7, 'shot_type': 'MS', 'action': 'armed_pose2_01', 'start_time': 58, 'end_time': 66},\\n        {'shot_number': 8, 'shot_type': 'MCU', 'action': 'armed_pose2_01', 'start_time': 66, 'end_time': 74},\\n        {'shot_number': 9, 'shot_type': 'WS', 'action': 'armed_pose2_01', 'start_time': 74, 'end_time': 82},\\n        {'shot_number': 10, 'shot_type': 'TS', 'action': 'armed_pose2_01', 'start_time': 82, 'end_time': 90},\\n        {'shot_number': 11, 'shot_type': 'CU', 'action': 'dives2_01', 'start_time': 90, 'end_time': 105},\\n        {'shot_number': 12, 'shot_type': 'MS', 'action': 'dives2_01', 'start_time': 105, '\""
      ]
     },
     "execution_count": 32,
     "metadata": {},
     "output_type": "execute_result"
    }
   ],
   "source": [
    "chat(input5,role='user')"
   ]
  },
  {
   "cell_type": "code",
   "execution_count": 33,
   "metadata": {},
   "outputs": [],
   "source": [
    "input6='make sure to include all the actions and have the correct end time,lessen the amount of shots if nessessary'"
   ]
  },
  {
   "cell_type": "code",
   "execution_count": 35,
   "metadata": {},
   "outputs": [],
   "source": [
    "message_history2=[]\n"
   ]
  },
  {
   "cell_type": "code",
   "execution_count": 40,
   "metadata": {},
   "outputs": [],
   "source": [
    "input7=\"generate me a shot list using these actions: [{'action': 'actout5_01', 'action_start': 0, 'action_end': 110}, {'action': 'armed_pose2_01', 'action_start': 78, 'action_end': 176}, {'action': 'dives2_01', 'action_start': 152, 'action_end': 295}, {'action': 'frontflip_01', 'action_start': 264, 'action_end': 405}] use these shot types: CU,MS,MCU,WS,TS. Make sure the shot list is numbered starting from 1 and make sure you go all the way to the final end_time. Make sure that the start_frame of a cut is the end_frame of the previous cut other than the first cut which starts at 0. Return this in a single python dictionary\""
   ]
  },
  {
   "cell_type": "code",
   "execution_count": 41,
   "metadata": {},
   "outputs": [],
   "source": [
    "def chat2(input, role=\"user\"):\n",
    "    message_history2.append({'role':role,'content':input})\n",
    "\n",
    "    completion = openai.ChatCompletion.create(\n",
    "        model='gpt-3.5-turbo',\n",
    "        messages=message_history2\n",
    "    )\n",
    "    reply = completion.choices[0].message.content\n",
    "    print(reply)\n",
    "    message_history2.append({'role':'assistant','content':reply})\n",
    "    return reply"
   ]
  },
  {
   "cell_type": "code",
   "execution_count": 42,
   "metadata": {},
   "outputs": [
    {
     "name": "stdout",
     "output_type": "stream",
     "text": [
      "{\n",
      "    1: {'shot_type': 'MS', 'start_frame': 0, 'end_frame': 78},\n",
      "    2: {'shot_type': 'MCU', 'start_frame': 78, 'end_frame': 152},\n",
      "    3: {'shot_type': 'TS', 'start_frame': 152, 'end_frame': 264},\n",
      "    4: {'shot_type': 'WS', 'start_frame': 264, 'end_frame': 405}\n",
      "}\n"
     ]
    },
    {
     "data": {
      "text/plain": [
       "\"{\\n    1: {'shot_type': 'MS', 'start_frame': 0, 'end_frame': 78},\\n    2: {'shot_type': 'MCU', 'start_frame': 78, 'end_frame': 152},\\n    3: {'shot_type': 'TS', 'start_frame': 152, 'end_frame': 264},\\n    4: {'shot_type': 'WS', 'start_frame': 264, 'end_frame': 405}\\n}\""
      ]
     },
     "execution_count": 42,
     "metadata": {},
     "output_type": "execute_result"
    }
   ],
   "source": [
    "chat2(input7,role='user')"
   ]
  },
  {
   "cell_type": "code",
   "execution_count": 43,
   "metadata": {},
   "outputs": [],
   "source": [
    "input8='give me another version with there being 4 to 20 cuts'"
   ]
  },
  {
   "cell_type": "code",
   "execution_count": 44,
   "metadata": {},
   "outputs": [
    {
     "name": "stdout",
     "output_type": "stream",
     "text": [
      "Here is a shot list with variable numbers of cuts between actions ranging from 4 to 20:\n",
      "\n",
      "```python\n",
      "import random\n",
      "\n",
      "actions = [{'action': 'actout5_01', 'action_start': 0, 'action_end': 110},\n",
      "           {'action': 'armed_pose2_01', 'action_start': 78, 'action_end': 176},\n",
      "           {'action': 'dives2_01', 'action_start': 152, 'action_end': 295},\n",
      "           {'action': 'frontflip_01', 'action_start': 264, 'action_end': 405}]\n",
      "\n",
      "max_cuts = 20  # max allowable number of cuts between actions\n",
      "min_cuts = 4  # minimum number of cuts between actions\n",
      "\n",
      "shot_list = {}\n",
      "shot_num = 1\n",
      "\n",
      "for i in range(len(actions)):\n",
      "    action = actions[i]\n",
      "    shot_type = random.choice(['CU', 'MS', 'MCU', 'WS', 'TS'])\n",
      "\n",
      "    if i == 0:\n",
      "        start_frame = 0\n",
      "    else:\n",
      "        start_frame = shot_list[shot_num - 1]['end_frame']\n",
      "\n",
      "    end_frame = action['action_start']\n",
      "    num_cuts = random.randint(min_cuts, max_cuts)\n",
      "\n",
      "    cut_length = (end_frame - start_frame) / (num_cuts + 1)\n",
      "    cut_starts = [start_frame + cut_length * (j+1) for j in range(num_cuts)]\n",
      "    cut_ends = [start_frame + cut_length * (j+2) for j in range(num_cuts)]\n",
      "\n",
      "    for j in range(num_cuts):\n",
      "        shot_list[shot_num] = {'shot_type': shot_type, 'start_frame': int(cut_ends[j-1]), 'end_frame': int(cut_starts[j])}\n",
      "        shot_num += 1\n",
      "\n",
      "    shot_list[shot_num] = {'shot_type': shot_type, 'start_frame': end_frame, 'end_frame': action['action_end']}\n",
      "    shot_num += 1\n",
      "\n",
      "print(shot_list)\n",
      "```\n",
      "\n",
      "This code will generate a shot list with random numbers of cuts between each action, ranging from 4 to 20. The number of cuts is randomly chosen for each action and the shot types are also randomly assigned.\n"
     ]
    },
    {
     "data": {
      "text/plain": [
       "\"Here is a shot list with variable numbers of cuts between actions ranging from 4 to 20:\\n\\n```python\\nimport random\\n\\nactions = [{'action': 'actout5_01', 'action_start': 0, 'action_end': 110},\\n           {'action': 'armed_pose2_01', 'action_start': 78, 'action_end': 176},\\n           {'action': 'dives2_01', 'action_start': 152, 'action_end': 295},\\n           {'action': 'frontflip_01', 'action_start': 264, 'action_end': 405}]\\n\\nmax_cuts = 20  # max allowable number of cuts between actions\\nmin_cuts = 4  # minimum number of cuts between actions\\n\\nshot_list = {}\\nshot_num = 1\\n\\nfor i in range(len(actions)):\\n    action = actions[i]\\n    shot_type = random.choice(['CU', 'MS', 'MCU', 'WS', 'TS'])\\n\\n    if i == 0:\\n        start_frame = 0\\n    else:\\n        start_frame = shot_list[shot_num - 1]['end_frame']\\n\\n    end_frame = action['action_start']\\n    num_cuts = random.randint(min_cuts, max_cuts)\\n\\n    cut_length = (end_frame - start_frame) / (num_cuts + 1)\\n    cut_starts = [start_frame + cut_length * (j+1) for j in range(num_cuts)]\\n    cut_ends = [start_frame + cut_length * (j+2) for j in range(num_cuts)]\\n\\n    for j in range(num_cuts):\\n        shot_list[shot_num] = {'shot_type': shot_type, 'start_frame': int(cut_ends[j-1]), 'end_frame': int(cut_starts[j])}\\n        shot_num += 1\\n\\n    shot_list[shot_num] = {'shot_type': shot_type, 'start_frame': end_frame, 'end_frame': action['action_end']}\\n    shot_num += 1\\n\\nprint(shot_list)\\n```\\n\\nThis code will generate a shot list with random numbers of cuts between each action, ranging from 4 to 20. The number of cuts is randomly chosen for each action and the shot types are also randomly assigned.\""
      ]
     },
     "execution_count": 44,
     "metadata": {},
     "output_type": "execute_result"
    }
   ],
   "source": [
    "chat2(input8,role='user')"
   ]
  },
  {
   "cell_type": "code",
   "execution_count": 45,
   "metadata": {},
   "outputs": [],
   "source": [
    "message_history3=[]\n",
    "def chat3(input, role=\"user\"):\n",
    "    message_history3.append({'role':role,'content':input})\n",
    "\n",
    "    completion = openai.ChatCompletion.create(\n",
    "        model='gpt-3.5-turbo',\n",
    "        messages=message_history3\n",
    "    )\n",
    "    reply = completion.choices[0].message.content\n",
    "    print(reply)\n",
    "    message_history3.append({'role':'assistant','content':reply})\n",
    "    return reply"
   ]
  },
  {
   "cell_type": "code",
   "execution_count": 46,
   "metadata": {},
   "outputs": [],
   "source": [
    "input9=\"generate me a shot list using these actions: [{'action': 'actout5_01', 'action_start': 0, 'action_end': 110}, {'action': 'armed_pose2_01', 'action_start': 78, 'action_end': 176}, {'action': 'dives2_01', 'action_start': 152, 'action_end': 295}, {'action': 'frontflip_01', 'action_start': 264, 'action_end': 405}] use these shot types: CU,MS,MCU,WS,TS. Make sure the shot list is numbered starting from 1 and make sure you go all the way to the final end_time. Make sure that the start_frame of a cut is the end_frame of the previous cut other than the first cut which starts at 0. The list can have a range of 5-15 cuts. Return the list in a single python dictionary\""
   ]
  },
  {
   "cell_type": "code",
   "execution_count": 47,
   "metadata": {},
   "outputs": [
    {
     "name": "stdout",
     "output_type": "stream",
     "text": [
      "1. CU of actor performing actout5_01 from frames 0-20\n",
      "2. MS of actor performing actout5_01 from frames 20-50\n",
      "3. MCU of actor performing actout5_01 from frames 50-80\n",
      "4. WS of actor performing armed_pose2_01 from frames 78-120\n",
      "5. TS of actor performing armed_pose2_01 from frames 120-160\n",
      "6. MS of actor performing armed_pose2_01 from frames 160-176\n",
      "7. WS of actor performing dives2_01 from frames 152-200\n",
      "8. MCU of actor performing dives2_01 from frames 200-240\n",
      "9. CU of actor performing dives2_01 from frames 240-280\n",
      "10. TS of actor performing dives2_01 from frames 280-295\n",
      "11. CU of actor performing frontflip_01 from frames 264-280\n",
      "12. MS of actor performing frontflip_01 from frames 280-330\n",
      "13. MCU of actor performing frontflip_01 from frames 330-370\n",
      "14. TS of actor performing frontflip_01 from frames 370-405\n",
      "\n",
      "{\n",
      "    1: {'shot_type': 'CU', 'action': 'actout5_01', 'start_frame': 0, 'end_frame': 20},\n",
      "    2: {'shot_type': 'MS', 'action': 'actout5_01', 'start_frame': 20, 'end_frame': 50},\n",
      "    3: {'shot_type': 'MCU', 'action': 'actout5_01', 'start_frame': 50, 'end_frame': 80},\n",
      "    4: {'shot_type': 'WS', 'action': 'armed_pose2_01', 'start_frame': 78, 'end_frame': 120},\n",
      "    5: {'shot_type': 'TS', 'action': 'armed_pose2_01', 'start_frame': 120, 'end_frame': 160},\n",
      "    6: {'shot_type': 'MS', 'action': 'armed_pose2_01', 'start_frame': 160, 'end_frame': 176},\n",
      "    7: {'shot_type': 'WS', 'action': 'dives2_01', 'start_frame': 152, 'end_frame': 200},\n",
      "    8: {'shot_type': 'MCU', 'action': 'dives2_01', 'start_frame': 200, 'end_frame': 240},\n",
      "    9: {'shot_type': 'CU', 'action': 'dives2_01', 'start_frame': 240, 'end_frame': 280},\n",
      "    10: {'shot_type': 'TS', 'action': 'dives2_01', 'start_frame': 280, 'end_frame': 295},\n",
      "    11: {'shot_type': 'CU', 'action': 'frontflip_01', 'start_frame': 264, 'end_frame': 280},\n",
      "    12: {'shot_type': 'MS', 'action': 'frontflip_01', 'start_frame': 280, 'end_frame': 330},\n",
      "    13: {'shot_type': 'MCU', 'action': 'frontflip_01', 'start_frame': 330, 'end_frame': 370},\n",
      "    14: {'shot_type': 'TS', 'action': 'frontflip_01', 'start_frame': 370, 'end_frame': 405}\n",
      "}\n"
     ]
    },
    {
     "data": {
      "text/plain": [
       "\"1. CU of actor performing actout5_01 from frames 0-20\\n2. MS of actor performing actout5_01 from frames 20-50\\n3. MCU of actor performing actout5_01 from frames 50-80\\n4. WS of actor performing armed_pose2_01 from frames 78-120\\n5. TS of actor performing armed_pose2_01 from frames 120-160\\n6. MS of actor performing armed_pose2_01 from frames 160-176\\n7. WS of actor performing dives2_01 from frames 152-200\\n8. MCU of actor performing dives2_01 from frames 200-240\\n9. CU of actor performing dives2_01 from frames 240-280\\n10. TS of actor performing dives2_01 from frames 280-295\\n11. CU of actor performing frontflip_01 from frames 264-280\\n12. MS of actor performing frontflip_01 from frames 280-330\\n13. MCU of actor performing frontflip_01 from frames 330-370\\n14. TS of actor performing frontflip_01 from frames 370-405\\n\\n{\\n    1: {'shot_type': 'CU', 'action': 'actout5_01', 'start_frame': 0, 'end_frame': 20},\\n    2: {'shot_type': 'MS', 'action': 'actout5_01', 'start_frame': 20, 'end_frame': 50},\\n    3: {'shot_type': 'MCU', 'action': 'actout5_01', 'start_frame': 50, 'end_frame': 80},\\n    4: {'shot_type': 'WS', 'action': 'armed_pose2_01', 'start_frame': 78, 'end_frame': 120},\\n    5: {'shot_type': 'TS', 'action': 'armed_pose2_01', 'start_frame': 120, 'end_frame': 160},\\n    6: {'shot_type': 'MS', 'action': 'armed_pose2_01', 'start_frame': 160, 'end_frame': 176},\\n    7: {'shot_type': 'WS', 'action': 'dives2_01', 'start_frame': 152, 'end_frame': 200},\\n    8: {'shot_type': 'MCU', 'action': 'dives2_01', 'start_frame': 200, 'end_frame': 240},\\n    9: {'shot_type': 'CU', 'action': 'dives2_01', 'start_frame': 240, 'end_frame': 280},\\n    10: {'shot_type': 'TS', 'action': 'dives2_01', 'start_frame': 280, 'end_frame': 295},\\n    11: {'shot_type': 'CU', 'action': 'frontflip_01', 'start_frame': 264, 'end_frame': 280},\\n    12: {'shot_type': 'MS', 'action': 'frontflip_01', 'start_frame': 280, 'end_frame': 330},\\n    13: {'shot_type': 'MCU', 'action': 'frontflip_01', 'start_frame': 330, 'end_frame': 370},\\n    14: {'shot_type': 'TS', 'action': 'frontflip_01', 'start_frame': 370, 'end_frame': 405}\\n}\""
      ]
     },
     "execution_count": 47,
     "metadata": {},
     "output_type": "execute_result"
    }
   ],
   "source": [
    "chat3(input9,role='user')"
   ]
  }
 ],
 "metadata": {
  "kernelspec": {
   "display_name": "Python 3",
   "language": "python",
   "name": "python3"
  },
  "language_info": {
   "codemirror_mode": {
    "name": "ipython",
    "version": 3
   },
   "file_extension": ".py",
   "mimetype": "text/x-python",
   "name": "python",
   "nbconvert_exporter": "python",
   "pygments_lexer": "ipython3",
   "version": "3.10.4"
  },
  "orig_nbformat": 4
 },
 "nbformat": 4,
 "nbformat_minor": 2
}
